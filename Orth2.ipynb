{
 "cells": [
  {
   "cell_type": "markdown",
   "metadata": {},
   "source": [
    "# Задание по лекциям 2.\n",
    "\n",
    "- Не нужно использовать эффективные вычислительные алгоритмы. Нужно использовать те алгоритмы, что были представлены на лекции или практических занятиях. \n",
    "- Остальное как обычно: за \"похожие\" решения всем задействованным 0 баллов; если используете решение из открытого источника — обязательно вставьте ссылку; не удаляйте формулировки; не выкладывайте в открытый источник.\n",
    "- Можно использовать `numpy.array` для матриц и матричной арифметики и `numpy.linalg` для подсчёта ранга и определителя, для вычисления обратной матрицы, решения СЛУ и т.п. То есть то, что вы уже реализовывали в прошлом семестре, ещё раз реализовывать необязательно. Более того, можно использовать в любом из *заданий по лекциям* функции, реализованные ранее в других *заданиях по лекциям*. Если возникнут сомнения, можно ли использовать ту или иную функцию — лучше сразу поинтересуйтесь у меня."
   ]
  },
  {
   "cell_type": "markdown",
   "metadata": {},
   "source": [
    "$\\mathbb{R}^n$ — вещественнозначное пространство вектор-**столбцов** со стандартным скалярным произведением."
   ]
  },
  {
   "cell_type": "code",
   "execution_count": 4,
   "metadata": {},
   "outputs": [],
   "source": [
    "import numpy as np"
   ]
  },
  {
   "cell_type": "code",
   "execution_count": 5,
   "metadata": {},
   "outputs": [
    {
     "name": "stdout",
     "output_type": "stream",
     "text": [
      "2\n"
     ]
    }
   ],
   "source": []
  },
  {
   "cell_type": "markdown",
   "metadata": {},
   "source": [
    "**(1 балл) Задание 5.** Реализовать функцию, принимающую на вход набор координат $u = (u_1,\\ldots,u_k),\\ k\\le n$ вектор-столбцов, и выдающую базис $$v = (v_1,\\ldots,v_m),\\ m \\ge n-k,$$\n",
    "ортогонального дополнения  для линейной оболочки данных векторов."
   ]
  },
  {
   "cell_type": "code",
   "execution_count": 6,
   "metadata": {},
   "outputs": [],
   "source": [
    "def ort(a: np.array):\n",
    "    a = np.array(a)\n",
    "    zer = np.zeros(a.shape[-1])\n",
    "    ort = np.linalg.solve(a,zer)\n",
    "    return ort"
   ]
  },
  {
   "cell_type": "code",
   "execution_count": null,
   "metadata": {},
   "outputs": [],
   "source": [
    "for j in i:\n",
    "        print (j)\n",
    "        #len += j\n",
    "    for j in i:\n",
    "        a[b][a] = a[b][a] / len\n",
    "        a += 1\n",
    "    len = 0\n",
    "    b += 1\n",
    "    a = 0\n",
    "print (a)"
   ]
  },
  {
   "cell_type": "markdown",
   "metadata": {},
   "source": [
    "**(1 балл) Задание 6.** Реализовать функцию, принимающую на вход набор координат $u = (u_1,\\ldots,u_k),\\ k\\le n$ вектор-столбцов, и выдающую ортонормированный базис $$v = (v_1,\\ldots,v_m),\\ m \\ge n-k,$$\n",
    "для линейной оболочки данных векторов."
   ]
  },
  {
   "cell_type": "code",
   "execution_count": 25,
   "metadata": {},
   "outputs": [],
   "source": [
    "def GramSchmidt(*a):\n",
    "    k=len(a[0])\n",
    "    N=len(a);\n",
    "    b = [[0] * k for i in range(N)]\n",
    "    b[0]=a[0]\n",
    "    for i in range(1,N):\n",
    "        sum=a[i]\n",
    "        for j in range(0,i):\n",
    "            scolar_ab=0\n",
    "            scolar_bb=0\n",
    "            proj=[i for i in range(k)]\n",
    "            for n in range(k):\n",
    "                scolar_ab+=b[j][n]*a[i][n]\n",
    "                scolar_bb+=b[j][n]*b[j][n]\n",
    "            for n in range(k):\n",
    "                proj[n]=(scolar_ab/scolar_bb)*b[j][n]\n",
    "            for n in range(k):\n",
    "                sum[n]-=proj[n]\n",
    "        b[i]=sum\n",
    "    len = 0\n",
    "    i = 0\n",
    "    j = 0\n",
    "    size = b.shape\n",
    "    while i < size[-1]:\n",
    "        while j < size[0]:\n",
    "            len += b[i][j] * b[i][j]\n",
    "        while j < size[0]:\n",
    "            b[i][j] = b[i][j] / sqrt(len)\n",
    "    len = 0\n",
    "    \n",
    "    for i in range(b.shape[0]):\n",
    "        len = 0\n",
    "        for j in range(b.shape[1]):\n",
    "            len += b[i][j]\n",
    "            print(len)\n",
    "        for j in range(b.shape[1]):\n",
    "            print(b[i][j])\n",
    "            b[i][j] = b[i][j]/len\n",
    "            print(b[i][j])\n",
    "\n",
    "    return b\n",
    "        \n",
    "        \n",
    "# https://algowiki-project.org/ru/%D0%9A%D0%BB%D0%B0%D1%81%D1%81%D0%B8%D1%87%D0%B5%D1%81%D0%BA%D0%B8%D0%B9_%D0%BC%D0%B5%D1%82%D0%BE%D0%B4_%D0%BE%D1%80%D1%82%D0%BE%D0%B3%D0%BE%D0%BD%D0%B0%D0%BB%D0%B8%D0%B7%D0%B0%D1%86%D0%B8%D0%B8"
   ]
  },
  {
   "cell_type": "markdown",
   "metadata": {},
   "source": [
    "**(1 балл) Задание 7.** Реализовать функцию, принимающую на вход набор координат $u = (u_1,\\ldots,u_k),\\ k\\le n$ линейно независимых вектор-столбцов, и выдающую ортонормированный базис $$v = (v_1,\\ldots,v_n)$$\n",
    "всего пространства, такой что линейная оболочка векторов $(v_1,\\ldots,v_k)$ совпадает с линейной оболочкой векторов $(u_1,\\ldots,u_k)$."
   ]
  },
  {
   "cell_type": "code",
   "execution_count": null,
   "metadata": {},
   "outputs": [],
   "source": []
  }
 ],
 "metadata": {
  "celltoolbar": "Create Assignment",
  "kernelspec": {
   "display_name": "Python 3",
   "language": "python",
   "name": "python3"
  },
  "language_info": {
   "codemirror_mode": {
    "name": "ipython",
    "version": 3
   },
   "file_extension": ".py",
   "mimetype": "text/x-python",
   "name": "python",
   "nbconvert_exporter": "python",
   "pygments_lexer": "ipython3",
   "version": "3.9.2"
  },
  "toc": {
   "base_numbering": 1,
   "nav_menu": {},
   "number_sections": true,
   "sideBar": true,
   "skip_h1_title": false,
   "title_cell": "Table of Contents",
   "title_sidebar": "Contents",
   "toc_cell": false,
   "toc_position": {},
   "toc_section_display": true,
   "toc_window_display": false
  }
 },
 "nbformat": 4,
 "nbformat_minor": 4
}
